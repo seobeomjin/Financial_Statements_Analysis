{
 "cells": [
  {
   "cell_type": "code",
   "execution_count": 4,
   "metadata": {},
   "outputs": [],
   "source": [
    "%matplotlib inline"
   ]
  },
  {
   "cell_type": "code",
   "execution_count": 11,
   "metadata": {},
   "outputs": [
    {
     "name": "stdout",
     "output_type": "stream",
     "text": [
      "predict (before training) 4 4.0\n",
      "\tgrad:  1.0 2.0 -2.0\n",
      "\tgrad:  2.0 4.0 -6.4\n",
      "\tgrad:  3.0 6.0 -2.88\n",
      "progress:  0 w= 2.13 loss= 0.15\n",
      "\tgrad:  1.0 2.0 0.26\n",
      "\tgrad:  2.0 4.0 0.82\n",
      "\tgrad:  3.0 6.0 0.37\n",
      "progress:  1 w= 1.98 loss= 0.0\n",
      "\tgrad:  1.0 2.0 -0.03\n",
      "\tgrad:  2.0 4.0 -0.1\n",
      "\tgrad:  3.0 6.0 -0.05\n",
      "progress:  2 w= 2.0 loss= 0.0\n",
      "\tgrad:  1.0 2.0 0.0\n",
      "\tgrad:  2.0 4.0 0.01\n",
      "\tgrad:  3.0 6.0 0.01\n",
      "progress:  3 w= 2.0 loss= 0.0\n",
      "\tgrad:  1.0 2.0 -0.0\n",
      "\tgrad:  2.0 4.0 -0.0\n",
      "\tgrad:  3.0 6.0 -0.0\n",
      "progress:  4 w= 2.0 loss= 0.0\n",
      "\tgrad:  1.0 2.0 0.0\n",
      "\tgrad:  2.0 4.0 0.0\n",
      "\tgrad:  3.0 6.0 0.0\n",
      "progress:  5 w= 2.0 loss= 0.0\n",
      "\tgrad:  1.0 2.0 -0.0\n",
      "\tgrad:  2.0 4.0 -0.0\n",
      "\tgrad:  3.0 6.0 -0.0\n",
      "progress:  6 w= 2.0 loss= 0.0\n",
      "\tgrad:  1.0 2.0 0.0\n",
      "\tgrad:  2.0 4.0 0.0\n",
      "\tgrad:  3.0 6.0 0.0\n",
      "progress:  7 w= 2.0 loss= 0.0\n",
      "\tgrad:  1.0 2.0 -0.0\n",
      "\tgrad:  2.0 4.0 -0.0\n",
      "\tgrad:  3.0 6.0 -0.0\n",
      "progress:  8 w= 2.0 loss= 0.0\n",
      "\tgrad:  1.0 2.0 0.0\n",
      "\tgrad:  2.0 4.0 0.0\n",
      "\tgrad:  3.0 6.0 0.0\n",
      "progress:  9 w= 2.0 loss= 0.0\n"
     ]
    },
    {
     "data": {
      "image/png": "[encoded data removed]",
      "text/plain": [
       "<Figure size 432x288 with 2 Axes>"
      ]
     },
     "metadata": {
      "needs_background": "light"
     },
     "output_type": "display_data"
    },
    {
     "name": "stdout",
     "output_type": "stream",
     "text": [
      "predict (after training) 4hours 7.9999999952776335\n"
     ]
    }
   ],
   "source": [
    "import matplotlib.pyplot as plt \n",
    "\n",
    "#x와 y의 데이타셋 설정 \n",
    "x_data = [1.0,2.0,3.0] \n",
    "y_data = [2.0,4.0,6.0]\n",
    "epoch_list = [] #그래프에 출력할 값들을 위해 list initiation \n",
    "w_list = []\n",
    "l_list = []\n",
    "\n",
    "w = 1.0 # a random guess : random value     \n",
    "#weight 설정으로, 랜덤으로 줘도 되며 일단 1로 설정 \n",
    "#w_list.append(w) #그래프 계산을 위해 추가 \n",
    "\n",
    "lr = 0.1 # learning rate \n",
    "#학습율을 의미 \n",
    "#our model forward pass \n",
    "\n",
    "#전방 계산을 통해 구한 예측 y label \n",
    "def forward (x) :\n",
    "    return w*x \n",
    "\n",
    "# 실제 label과 예측 label 값 사이의 오차의 제곱값 \n",
    "#loss function \n",
    "def loss(x,y):\n",
    "    y_pred = forward(x)\n",
    "    return (y_pred -y)*(y_pred-y)\n",
    "\n",
    "#그래디언트 값을 구하는 함수 정의 \n",
    "#compute gradient \n",
    "def gradient(x,y):\n",
    "    return 2*x*(x*w-y)\n",
    "\n",
    "#학습 전 \n",
    "#befor training\n",
    "print(\"predict (before training)\",4,forward(4))\n",
    "\n",
    "#학습 loop \n",
    "#training loop\n",
    "\n",
    "for epoch in range(10): #10회 실행 \n",
    "    for x_val, y_val in zip(x_data,y_data):  # x,y dataset에서 각각 하나의 값씩 뽑는다\n",
    "        grad = gradient(x_val,y_val) # 그래디언트 값을 넣고 \n",
    "        w = w - lr*grad #learining rul에 따라  weight 값을 update\n",
    "        print(\"\\tgrad: \",x_val,y_val,round(grad,2)) #x,y값과 해당 좌표의 gradient값 출력 \n",
    "        l = loss(x_val,y_val) # loss 출력 \n",
    "    w_list.append(w) # 1회씩 epoch 한 update 값들을 넣어준다. \n",
    "    l_list.append(l)\n",
    "    epoch_list.append(epoch)\n",
    "\n",
    "    print(\"progress: \",epoch,\"w=\",round(w,2),\"loss=\",round(l,2)) # 1 term이 끝날 때마다 weight, loss 출력 \n",
    "    \n",
    "    \n",
    "plt.subplot(121) # 1행 2열 중 1번째 그래프 \n",
    "plt.plot(epoch_list,w_list) # x는 epoch, y는 epoch에 따라 update되는 weight 값 \n",
    "plt.ylabel('w') # ylabel\n",
    "plt.xlabel('epoch') # xlabel \n",
    "plt.title(\"epoch - w \")   # plot title\n",
    "\n",
    "plt.subplot(122)\n",
    "plt.plot(epoch_list,l_list)\n",
    "plt.ylabel('loss')\n",
    "plt.xlabel('epoch')\n",
    "plt.title(\"epoch - loss \")\n",
    "\n",
    "plt.show()\n",
    "\n",
    "#after training \n",
    "print(\"predict (after training)\",\"4hours\",forward(4)) # 학습 후 전방계산 출력   \n",
    "\n",
    "#plt.show()"
   ]
  }
 ],
 "metadata": {
  "kernelspec": {
   "display_name": "develroom-pytorch",
   "language": "python",
   "name": "develroom"
  },
  "language_info": {
   "codemirror_mode": {
    "name": "ipython",
    "version": 3
   },
   "file_extension": ".py",
   "mimetype": "text/x-python",
   "name": "python",
   "nbconvert_exporter": "python",
   "pygments_lexer": "ipython3",
   "version": "3.7.3"
  }
 },
 "nbformat": 4,
 "nbformat_minor": 2
}
